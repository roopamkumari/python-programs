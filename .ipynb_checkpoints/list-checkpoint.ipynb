{
 "cells": [
  {
   "cell_type": "code",
   "execution_count": 10,
   "metadata": {},
   "outputs": [
    {
     "name": "stdout",
     "output_type": "stream",
     "text": [
      "<class 'list'>\n",
      "['roopam', 'kumari']\n",
      "<class 'list'>\n"
     ]
    }
   ],
   "source": [
    "list=[10,20,60,50]\n",
    "print(type(list))\n",
    "list2=['roopam','kumari']\n",
    "print(list2)\n",
    "list3=[[list],list2]\n",
    "print(type(list3))\n"
   ]
  },
  {
   "cell_type": "code",
   "execution_count": 12,
   "metadata": {},
   "outputs": [
    {
     "name": "stdout",
     "output_type": "stream",
     "text": [
      "['two', 'three', 'seven', 'ten', 'two']\n",
      "['three', 'seven', 'ten', 'two']\n"
     ]
    }
   ],
   "source": [
    "#to remove from list \n",
    "\n",
    "list=['two','three','seven','ten','two']\n",
    "print(list)\n",
    "list.remove('two')\n",
    "print(list)\n"
   ]
  },
  {
   "cell_type": "code",
   "execution_count": 37,
   "metadata": {},
   "outputs": [
    {
     "name": "stdout",
     "output_type": "stream",
     "text": [
      "['two', 'three', 'ten', 'twenty', 'eight']\n",
      "['two', 'three', 'ten', 'twenty', 'eight', ['three'], 'one']\n",
      "['two', 'three', 'ten', 'twenty', 'eight']\n",
      "['two', 'three', 'ten', 'twenty', 'eight', 10, 20, 30, 40, '5', '0', '0', '8']\n"
     ]
    }
   ],
   "source": [
    "# list append and extend \n",
    "list=['two','three','ten','twenty','eight']\n",
    "print(list)\n",
    "list1=['three']\n",
    "list.append(list1)\n",
    "list.append('one')\n",
    "print(list)\n",
    "\n",
    "# by using extend\n",
    "\n",
    "list3=['two','three','ten','twenty','eight']\n",
    "print(list3)\n",
    "list4=[10,20,30,40]\n",
    "list3.extend(list4)\n",
    "list3.extend('5008')\n",
    "print(list3)"
   ]
  },
  {
   "cell_type": "code",
   "execution_count": null,
   "metadata": {},
   "outputs": [],
   "source": [
    "# del \n",
    "list3=['two','three','ten','twenty','eight']\n",
    "del list3[1]\n",
    "print(list3)  \n",
    "\n",
    "\n",
    "# pop\n",
    "list4=['two','three','ten','twenty','eight']\n",
    "num=list4.pop(1)\n",
    "print(list4) \n",
    "print(num)\n",
    "\n",
    "#remove\n",
    "\n",
    "list5=['two','three','ten','twenty','eight']\n",
    "list5.remove('two')\n",
    "print(list5) \n",
    "\n",
    "listt6=['two','three','ten','twenty','eight']\n",
    "\n",
    "if 'two' in list6:\n",
    "    print('ml')\n",
    "\n"
   ]
  },
  {
   "cell_type": "code",
   "execution_count": 24,
   "metadata": {},
   "outputs": [
    {
     "name": "stdout",
     "output_type": "stream",
     "text": [
      "ai\n"
     ]
    }
   ],
   "source": [
    "# keyowrd in condition\n",
    "list4=['two','three','ten','twenty','eight']\n",
    "\n",
    "if 'one' in list4:\n",
    "    print('ml')\n",
    "else:\n",
    "    print('ai')\n",
    " "
   ]
  },
  {
   "cell_type": "code",
   "execution_count": 25,
   "metadata": {},
   "outputs": [
    {
     "name": "stdout",
     "output_type": "stream",
     "text": [
      "['eight', 'twenty', 'ten', 'three', 'two']\n"
     ]
    }
   ],
   "source": [
    "#reverse\n",
    "list4=['two','three','ten','twenty','eight']\n",
    "list4.reverse()\n",
    "print(list4)"
   ]
  },
  {
   "cell_type": "code",
   "execution_count": 31,
   "metadata": {},
   "outputs": [
    {
     "name": "stdout",
     "output_type": "stream",
     "text": [
      "['two', 'three', 'ten', 'twenty', 'eight']\n",
      "['two', 'twenty', 'three', 'ten', 'eight']\n",
      "['eight', 'ten', 'three', 'twenty', 'two']\n"
     ]
    }
   ],
   "source": [
    "#sorting \n",
    "list4=['two','three','ten','twenty','eight']\n",
    "list5=sorted(list4, reverse=True)\n",
    "print(list4)\n",
    "print(list5)                     #original list is not sorted \n",
    "\n",
    "\n",
    "list4.sort()\n",
    "print(list4)\n"
   ]
  },
  {
   "cell_type": "code",
   "execution_count": 38,
   "metadata": {},
   "outputs": [
    {
     "name": "stdout",
     "output_type": "stream",
     "text": [
      "[45, 87, 34, 23, 23, 45]\n"
     ]
    }
   ],
   "source": [
    "# references in list \n",
    "lst=[45,87,34,23,23]\n",
    "abc=lst\n",
    "lst.append(45)\n",
    "print(lst)"
   ]
  },
  {
   "cell_type": "code",
   "execution_count": 44,
   "metadata": {},
   "outputs": [
    {
     "name": "stdout",
     "output_type": "stream",
     "text": [
      "['today', 'is', 'a', 'cold', 'day']\n",
      "today is a cold day\n"
     ]
    },
    {
     "ename": "AttributeError",
     "evalue": "'int' object has no attribute 'split'",
     "output_type": "error",
     "traceback": [
      "\u001b[1;31m---------------------------------------------------------------------------\u001b[0m",
      "\u001b[1;31mAttributeError\u001b[0m                            Traceback (most recent call last)",
      "\u001b[1;32m<ipython-input-44-9192577c2084>\u001b[0m in \u001b[0;36m<module>\u001b[1;34m\u001b[0m\n\u001b[0;32m      7\u001b[0m \u001b[1;33m\u001b[0m\u001b[0m\n\u001b[0;32m      8\u001b[0m \u001b[0mnumber\u001b[0m\u001b[1;33m=\u001b[0m\u001b[1;36m190001\u001b[0m\u001b[1;33m\u001b[0m\u001b[1;33m\u001b[0m\u001b[0m\n\u001b[1;32m----> 9\u001b[1;33m \u001b[0msnumber\u001b[0m\u001b[1;33m=\u001b[0m\u001b[0mnumber\u001b[0m\u001b[1;33m.\u001b[0m\u001b[0msplit\u001b[0m\u001b[1;33m(\u001b[0m\u001b[1;33m)\u001b[0m\u001b[1;33m\u001b[0m\u001b[1;33m\u001b[0m\u001b[0m\n\u001b[0m\u001b[0;32m     10\u001b[0m \u001b[1;33m\u001b[0m\u001b[0m\n\u001b[0;32m     11\u001b[0m \u001b[1;33m\u001b[0m\u001b[0m\n",
      "\u001b[1;31mAttributeError\u001b[0m: 'int' object has no attribute 'split'"
     ]
    }
   ],
   "source": [
    "#converting a string into a list\n",
    "\n",
    "str='today is a cold day'\n",
    "slist=str.split(' ')\n",
    "print(slist)\n",
    "print(str)\n",
    "\n",
    "\n",
    "\n",
    "\n"
   ]
  },
  {
   "cell_type": "code",
   "execution_count": 57,
   "metadata": {},
   "outputs": [
    {
     "name": "stdout",
     "output_type": "stream",
     "text": [
      "[45, 87]\n",
      "[45, 87]\n",
      "[87]\n",
      "[45, 34, 23, 23]\n",
      "[34, 23, 23]\n"
     ]
    }
   ],
   "source": [
    "#slicing \n",
    "lst=[45,87,34,23,23,45,23,67]\n",
    "\n",
    "print(lst[:2])\n",
    "print(lst[0:2])\n",
    "print(lst[1:2])\n",
    "print(lst[::2])    # alternate number \n",
    "print(lst[2::2])    # alternate number \n"
   ]
  },
  {
   "cell_type": "code",
   "execution_count": 61,
   "metadata": {},
   "outputs": [
    {
     "name": "stdout",
     "output_type": "stream",
     "text": [
      "2\n",
      "8\n"
     ]
    }
   ],
   "source": [
    "#count\n",
    "\n",
    "lst=[45,87,34,23,23,45,23,67]\n",
    "print(lst.count(45))\n",
    "print(len(lst))\n"
   ]
  },
  {
   "cell_type": "code",
   "execution_count": 75,
   "metadata": {},
   "outputs": [
    {
     "name": "stdout",
     "output_type": "stream",
     "text": [
      "8\n",
      "45\n",
      "87\n",
      "34\n",
      "23\n",
      "23\n",
      "45\n",
      "23\n",
      "67\n",
      "45\n",
      "34\n",
      "23\n",
      "23\n"
     ]
    }
   ],
   "source": [
    "#loops\n",
    "lst=[45,87,34,23,23,45,23,67]\n",
    "length=len(lst)\n",
    "print(length)\n",
    "for ele in lst:\n",
    "    print(ele)\n",
    "    \n",
    "    \n",
    "for ele in range(0,length,2):\n",
    "    print(lst[ele])"
   ]
  },
  {
   "cell_type": "code",
   "execution_count": 88,
   "metadata": {},
   "outputs": [
    {
     "name": "stdout",
     "output_type": "stream",
     "text": [
      "[0, 1, 4, 9, 16, 25, 36, 49, 64, 81]\n",
      "[0, 1, 4, 9, 16, 25, 36, 49, 64, 81]\n",
      "[90, 174, -68, 46, 46, 90, 46, 134]\n",
      "[90, 174, -68, 46, 46, 90, 46, 134]\n",
      "[90, 174, -68, 46, 46, 90, 46, 134]\n",
      "[90, 174, 46, 46, 90, 46, 134]\n",
      "[(45, 90), (87, 174), (-34, -68), (23, 46), (23, 46), (45, 90), (23, 46), (67, 134)]\n"
     ]
    }
   ],
   "source": [
    "#comprehension\n",
    "\n",
    "list=[]\n",
    "for ele in range(10):\n",
    "    list.append(ele**2)\n",
    "\n",
    "print(list)\n",
    "\n",
    "\n",
    "#through comprehension\n",
    "\n",
    "list1=[ele**2 for ele in range(10)]\n",
    "print(list1)\n",
    "\n",
    "lst=[45,87,-34,23,23,45,23,67]\n",
    "\n",
    "newlist=[i*2 for i in lst]    # double value \n",
    "print(newlist)\n",
    "\n",
    "newlist=[i*2 for i in lst]    # double value \n",
    "print(newlist)\n",
    "\n",
    "\n",
    "newlist1=[i*2 for i in lst if i>=0]\n",
    "print(newlist)\n",
    "\n",
    "newlist1=[i*2 for i in lst if i>=0]\n",
    "print(newlist1)\n",
    "\n",
    "newlist1=[(i,i*2) for i in lst]\n",
    "print(newlist1)\n"
   ]
  },
  {
   "cell_type": "code",
   "execution_count": null,
   "metadata": {},
   "outputs": [],
   "source": []
  }
 ],
 "metadata": {
  "kernelspec": {
   "display_name": "Python 3",
   "language": "python",
   "name": "python3"
  },
  "language_info": {
   "codemirror_mode": {
    "name": "ipython",
    "version": 3
   },
   "file_extension": ".py",
   "mimetype": "text/x-python",
   "name": "python",
   "nbconvert_exporter": "python",
   "pygments_lexer": "ipython3",
   "version": "3.7.4"
  }
 },
 "nbformat": 4,
 "nbformat_minor": 2
}
