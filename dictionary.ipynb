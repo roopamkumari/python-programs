{
 "cells": [
  {
   "cell_type": "code",
   "execution_count": 10,
   "metadata": {},
   "outputs": [
    {
     "name": "stdout",
     "output_type": "stream",
     "text": [
      "{1: 3, 4: 5}\n",
      "dict_keys([1, 4])\n",
      "dict_values([3, 5])\n",
      "1\n",
      "3\n",
      "4\n",
      "5\n"
     ]
    }
   ],
   "source": [
    "my_dict = dict([(1,3),(4,5)])\n",
    "print(my_dict)\n",
    "print(my_dict.keys())\n",
    "print(my_dict.values())\n",
    "for keys,values in my_dict.items():\n",
    "    print(keys)\n",
    "    print(values)"
   ]
  },
  {
   "cell_type": "code",
   "execution_count": 17,
   "metadata": {},
   "outputs": [
    {
     "name": "stdout",
     "output_type": "stream",
     "text": [
      "1\n",
      "abc\n",
      "2\n",
      "ro\n",
      "4\n",
      "4\n",
      "{1: 'abc', 2: 'ro', 4: 4}\n",
      "dict_keys([1, 2, 4])\n",
      "dict_values(['abc', 'ro', 4])\n",
      "<class 'dict'>\n",
      "<class 'dict'>\n"
     ]
    }
   ],
   "source": [
    "my_dict={}\n",
    "mydict={1:'abc',2:'roop',4:4,2:'ro'}\n",
    "for i,j in mydict.items():\n",
    "        print(i)\n",
    "        print(j)\n",
    "print(mydict)\n",
    "print(mydict.keys())\n",
    "print(mydict.values())\n",
    "print(type(my_dict))\n",
    "print(type(my_dict))"
   ]
  },
  {
   "cell_type": "code",
   "execution_count": 28,
   "metadata": {},
   "outputs": [
    {
     "name": "stdout",
     "output_type": "stream",
     "text": [
      "<class 'dict'>\n",
      "2\n",
      "5\n"
     ]
    }
   ],
   "source": [
    "my_dict=dict([(1,2),(4,5)])\n",
    "print(type(my_dict))\n",
    "print(my_dict[1])\n",
    "print(my_dict.get(4))"
   ]
  },
  {
   "cell_type": "code",
   "execution_count": 31,
   "metadata": {},
   "outputs": [
    {
     "name": "stdout",
     "output_type": "stream",
     "text": [
      "{1: 2, 4: 5, 5: 8, 3: 10}\n"
     ]
    }
   ],
   "source": [
    "# add or append key value pair in a dictionary\n",
    "my_dict=dict([(1,2),(4,5),(5,8)])\n",
    "my_dict[3]=10\n",
    "print(my_dict)"
   ]
  },
  {
   "cell_type": "code",
   "execution_count": null,
   "metadata": {},
   "outputs": [],
   "source": []
  }
 ],
 "metadata": {
  "kernelspec": {
   "display_name": "Python 3",
   "language": "python",
   "name": "python3"
  },
  "language_info": {
   "codemirror_mode": {
    "name": "ipython",
    "version": 3
   },
   "file_extension": ".py",
   "mimetype": "text/x-python",
   "name": "python",
   "nbconvert_exporter": "python",
   "pygments_lexer": "ipython3",
   "version": "3.7.4"
  }
 },
 "nbformat": 4,
 "nbformat_minor": 2
}
