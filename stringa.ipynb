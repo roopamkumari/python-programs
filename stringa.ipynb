{
 "cells": [
  {
   "cell_type": "code",
   "execution_count": 9,
   "metadata": {},
   "outputs": [
    {
     "name": "stdout",
     "output_type": "stream",
     "text": [
      "Applied AI \n",
      "is a greate course to learn\n",
      "ppl\n"
     ]
    }
   ],
   "source": [
    "myString='''Applied AI \n",
    "is a greate course to learn'''\n",
    "print(myString)\n",
    "print(myString[1:4])\n",
    "myString='Applied AI'"
   ]
  },
  {
   "cell_type": "code",
   "execution_count": 10,
   "metadata": {},
   "outputs": [
    {
     "name": "stdout",
     "output_type": "stream",
     "text": [
      "roopam\n"
     ]
    }
   ],
   "source": [
    "myString='Applied AI'\n",
    "myString='roopam'\n",
    "print(myString)"
   ]
  },
  {
   "cell_type": "code",
   "execution_count": 11,
   "metadata": {},
   "outputs": [
    {
     "ename": "NameError",
     "evalue": "name 'myString' is not defined",
     "output_type": "error",
     "traceback": [
      "\u001b[1;31m---------------------------------------------------------------------------\u001b[0m",
      "\u001b[1;31mNameError\u001b[0m                                 Traceback (most recent call last)",
      "\u001b[1;32m<ipython-input-11-56e4226faca0>\u001b[0m in \u001b[0;36m<module>\u001b[1;34m\u001b[0m\n\u001b[0;32m      1\u001b[0m \u001b[0mmyString\u001b[0m\u001b[1;33m=\u001b[0m\u001b[1;34m'roopam'\u001b[0m\u001b[1;33m\u001b[0m\u001b[1;33m\u001b[0m\u001b[0m\n\u001b[0;32m      2\u001b[0m \u001b[1;32mdel\u001b[0m \u001b[0mmyString\u001b[0m\u001b[1;33m\u001b[0m\u001b[1;33m\u001b[0m\u001b[0m\n\u001b[1;32m----> 3\u001b[1;33m \u001b[0mprint\u001b[0m\u001b[1;33m(\u001b[0m\u001b[0mmyString\u001b[0m\u001b[1;33m)\u001b[0m\u001b[1;33m\u001b[0m\u001b[1;33m\u001b[0m\u001b[0m\n\u001b[0m",
      "\u001b[1;31mNameError\u001b[0m: name 'myString' is not defined"
     ]
    }
   ],
   "source": [
    "myString='roopam'\n",
    "del myString\n",
    "print(myString)"
   ]
  },
  {
   "cell_type": "code",
   "execution_count": 15,
   "metadata": {},
   "outputs": [
    {
     "name": "stdout",
     "output_type": "stream",
     "text": [
      "roopamkumari\n",
      "roopamkumarikumarikumari\n"
     ]
    }
   ],
   "source": [
    "#String concatenation\n",
    "\n",
    "mystring='roopam'\n",
    "print(mystring+'kumari')\n",
    "string2='kumari'\n",
    "print(mystring+string2*3)"
   ]
  },
  {
   "cell_type": "code",
   "execution_count": 27,
   "metadata": {},
   "outputs": [
    {
     "name": "stdout",
     "output_type": "stream",
     "text": [
      "2\n"
     ]
    }
   ],
   "source": [
    "#iterating in string\n",
    "myString='applied ai a course '\n",
    "count=0\n",
    "for i in myString:\n",
    "    if i=='i':\n",
    "        count+=1\n",
    "print(count)\n",
    "        "
   ]
  },
  {
   "cell_type": "code",
   "execution_count": 28,
   "metadata": {},
   "outputs": [
    {
     "name": "stdout",
     "output_type": "stream",
     "text": [
      "True\n"
     ]
    }
   ],
   "source": [
    "#membership in strings\n",
    "myString='applied ai a course '\n",
    "print('i' in myString)"
   ]
  },
  {
   "cell_type": "code",
   "execution_count": 36,
   "metadata": {},
   "outputs": [
    {
     "name": "stdout",
     "output_type": "stream",
     "text": [
      "APPLIED AI A COURSE \n",
      "applied ai a course \n",
      "['applied', 'ai', 'a', 'course']\n",
      "applied ai a course \n",
      "5\n",
      "applied ml a course \n"
     ]
    }
   ],
   "source": [
    "#strings methods\n",
    "myString='applied ai a course '\n",
    "print(myString.upper())\n",
    "print(myString.lower())\n",
    "print(myString.split())\n",
    "print(''.join(myString))\n",
    "print(myString.find('ed'))\n",
    "print(myString.replace('ai','ml'))"
   ]
  },
  {
   "cell_type": "code",
   "execution_count": 46,
   "metadata": {},
   "outputs": [
    {
     "ename": "TypeError",
     "evalue": "'int' object is not callable",
     "output_type": "error",
     "traceback": [
      "\u001b[1;31m---------------------------------------------------------------------------\u001b[0m",
      "\u001b[1;31mTypeError\u001b[0m                                 Traceback (most recent call last)",
      "\u001b[1;32m<ipython-input-46-657dc722ad55>\u001b[0m in \u001b[0;36m<module>\u001b[1;34m\u001b[0m\n\u001b[0;32m      6\u001b[0m \u001b[1;33m\u001b[0m\u001b[0m\n\u001b[0;32m      7\u001b[0m \u001b[1;33m\u001b[0m\u001b[0m\n\u001b[1;32m----> 8\u001b[1;33m \u001b[0mprint\u001b[0m \u001b[1;33m(\u001b[0m\u001b[1;34m\"string length =\"\u001b[0m\u001b[1;33m,\u001b[0m \u001b[0mlen\u001b[0m\u001b[1;33m(\u001b[0m\u001b[0mstr_len\u001b[0m\u001b[1;33m)\u001b[0m\u001b[1;33m)\u001b[0m\u001b[1;33m\u001b[0m\u001b[1;33m\u001b[0m\u001b[0m\n\u001b[0m",
      "\u001b[1;31mTypeError\u001b[0m: 'int' object is not callable"
     ]
    }
   ],
   "source": [
    "string1='roopam'\n",
    "\n",
    " \n",
    "str_len = \"The example of getting length of string\"\n",
    " \n",
    " \n",
    " \n",
    "print (\"string length =\", len(str_len))"
   ]
  },
  {
   "cell_type": "code",
   "execution_count": 55,
   "metadata": {},
   "outputs": [
    {
     "name": "stdout",
     "output_type": "stream",
     "text": [
      "madan\n",
      "<reversed object at 0x0000016F9FFD7E88>\n",
      "string is not palindromw\n"
     ]
    }
   ],
   "source": [
    "#for palindrom\n",
    "string1='madam'\n",
    "string1=string1.lower()\n",
    "string2=reversed(string1)\n",
    "print(string1)\n",
    "print(string2)\n",
    "if list(string2)==list(string1):\n",
    "    print(\"strig is palindrom string\")\n",
    "else:\n",
    "    print(\"string is not palindromw\")"
   ]
  },
  {
   "cell_type": "code",
   "execution_count": 61,
   "metadata": {},
   "outputs": [
    {
     "name": "stdout",
     "output_type": "stream",
     "text": [
      "['apllied', 'ai', 'is', 'a', 'great', 'program']\n",
      "['a', 'ai', 'apllied', 'great', 'is', 'program']\n",
      "a\n",
      "ai\n",
      "apllied\n",
      "great\n",
      "is\n",
      "program\n"
     ]
    }
   ],
   "source": [
    "#sort words in string\n",
    "\n",
    "string1=\"apllied ai is a great  program\";\n",
    "words=string1.split()\n",
    "print(words)\n",
    "words.sort()\n",
    "print(words)\n",
    "\n",
    "for word in words:\n",
    "    print(word)"
   ]
  },
  {
   "cell_type": "code",
   "execution_count": null,
   "metadata": {},
   "outputs": [],
   "source": []
  }
 ],
 "metadata": {
  "kernelspec": {
   "display_name": "Python 3",
   "language": "python",
   "name": "python3"
  },
  "language_info": {
   "codemirror_mode": {
    "name": "ipython",
    "version": 3
   },
   "file_extension": ".py",
   "mimetype": "text/x-python",
   "name": "python",
   "nbconvert_exporter": "python",
   "pygments_lexer": "ipython3",
   "version": "3.7.4"
  }
 },
 "nbformat": 4,
 "nbformat_minor": 2
}
